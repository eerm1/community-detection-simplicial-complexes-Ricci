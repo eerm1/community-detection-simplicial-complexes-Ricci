{
 "cells": [
  {
   "cell_type": "code",
   "execution_count": 1,
   "metadata": {},
   "outputs": [],
   "source": [
    "import sys\n",
    "import os\n",
    "\n",
    "sys.path.append(os.path.abspath(os.path.join(os.getcwd(), '..')))\n",
    "\n",
    "from ricci.simplicial_complex import SimplicialComplex\n",
    "from ricci.ricci_flow import ricci_flow_community_detection\n",
    "import matplotlib.pyplot as plt\n",
    "import itertools\n",
    "import networkx as nx\n"
   ]
  },
  {
   "cell_type": "code",
   "execution_count": 2,
   "metadata": {},
   "outputs": [],
   "source": [
    "import pandas as pd\n",
    "\n",
    "df = pd.read_table(\"../datasets/aves-weaver-social.edges\", names=['source', 'target', 'true'], sep=' ')\n",
    "true_labels = df['true'].tolist()\n",
    "edges = [set([row['source'], row['target']]) for _, row in df.iterrows()]\n",
    "nodes = set(df['source']).union(set(df['target']))\n",
    "node_labels = dict(zip(df['source'], df['true']))"
   ]
  },
  {
   "cell_type": "code",
   "execution_count": 3,
   "metadata": {},
   "outputs": [
    {
     "name": "stdout",
     "output_type": "stream",
     "text": [
      "Dimensions and counts of simplices in the complex:\n",
      "Dimension 0: 445 simplices\n",
      "Dimension 1: 1335 simplices\n",
      "Dimension 2: 246 simplices\n",
      "Dimension 3: 51 simplices\n",
      "Iteration 1/20\n",
      "Iteration 2/20\n",
      "Iteration 3/20\n",
      "Iteration 4/20\n",
      "Iteration 5/20\n",
      "Iteration 6/20\n"
     ]
    },
    {
     "ename": "KeyboardInterrupt",
     "evalue": "",
     "output_type": "error",
     "traceback": [
      "\u001b[1;31m---------------------------------------------------------------------------\u001b[0m",
      "\u001b[1;31mKeyboardInterrupt\u001b[0m                         Traceback (most recent call last)",
      "Cell \u001b[1;32mIn[3], line 28\u001b[0m\n\u001b[0;32m     25\u001b[0m     \u001b[38;5;28mprint\u001b[39m(\u001b[38;5;124mf\u001b[39m\u001b[38;5;124m\"\u001b[39m\u001b[38;5;124mDimension \u001b[39m\u001b[38;5;132;01m{\u001b[39;00mdim\u001b[38;5;132;01m}\u001b[39;00m\u001b[38;5;124m: \u001b[39m\u001b[38;5;132;01m{\u001b[39;00mcount\u001b[38;5;132;01m}\u001b[39;00m\u001b[38;5;124m simplices\u001b[39m\u001b[38;5;124m\"\u001b[39m)\n\u001b[0;32m     27\u001b[0m max_dim \u001b[38;5;241m=\u001b[39m \u001b[38;5;28mmax\u001b[39m(sc\u001b[38;5;241m.\u001b[39msimplices\u001b[38;5;241m.\u001b[39mkeys())\n\u001b[1;32m---> 28\u001b[0m nmi_scores, modularity_scores, theta_values, ari_scores \u001b[38;5;241m=\u001b[39m ricci_flow_community_detection(\n\u001b[0;32m     29\u001b[0m     sc, T\u001b[38;5;241m=\u001b[39m\u001b[38;5;241m20\u001b[39m, delta\u001b[38;5;241m=\u001b[39m\u001b[38;5;241m0.01\u001b[39m, ground_truth\u001b[38;5;241m=\u001b[39mnode_labels\n\u001b[0;32m     30\u001b[0m )\n\u001b[0;32m     32\u001b[0m plt\u001b[38;5;241m.\u001b[39mfigure(figsize\u001b[38;5;241m=\u001b[39m(\u001b[38;5;241m10\u001b[39m,\u001b[38;5;241m5\u001b[39m))\n\u001b[0;32m     33\u001b[0m plt\u001b[38;5;241m.\u001b[39mplot(theta_values, modularity_scores, label\u001b[38;5;241m=\u001b[39m\u001b[38;5;124m'\u001b[39m\u001b[38;5;124mModularity\u001b[39m\u001b[38;5;124m'\u001b[39m)\n",
      "File \u001b[1;32m~\\community-detection-simplicial-complexes-Ricci\\ricci\\ricci_flow.py:104\u001b[0m, in \u001b[0;36mricci_flow_community_detection\u001b[1;34m(sc, T, delta, ground_truth, min_theta_range, theta_step)\u001b[0m\n\u001b[0;32m     99\u001b[0m     \u001b[38;5;66;03m# Update weights based on the Ricci curvature computation\u001b[39;00m\n\u001b[0;32m    100\u001b[0m \n\u001b[0;32m    101\u001b[0m     \u001b[38;5;66;03m# Compute Ricci curvature\u001b[39;00m\n\u001b[0;32m    102\u001b[0m     curvature \u001b[38;5;241m=\u001b[39m compute_ricci_curvature(sc, m)\n\u001b[1;32m--> 104\u001b[0m     update_weights(sc, curvature, delta)\n\u001b[0;32m    106\u001b[0m \u001b[38;5;66;03m# Compute weight range and theta values\u001b[39;00m\n\u001b[0;32m    107\u001b[0m max_dim \u001b[38;5;241m=\u001b[39m \u001b[38;5;28mmax\u001b[39m(sc\u001b[38;5;241m.\u001b[39msimplices\u001b[38;5;241m.\u001b[39mkeys())\n",
      "File \u001b[1;32m~\\community-detection-simplicial-complexes-Ricci\\ricci\\ricci_flow.py:188\u001b[0m, in \u001b[0;36mupdate_weights\u001b[1;34m(sc, curvature, delta)\u001b[0m\n\u001b[0;32m    186\u001b[0m \u001b[38;5;28;01mif\u001b[39;00m kappa_values:\n\u001b[0;32m    187\u001b[0m     avg_kappa \u001b[38;5;241m=\u001b[39m np\u001b[38;5;241m.\u001b[39mmean(kappa_values)\n\u001b[1;32m--> 188\u001b[0m     cofaces \u001b[38;5;241m=\u001b[39m get_cofaces(sc, simplex)\n\u001b[0;32m    189\u001b[0m     \u001b[38;5;28;01mfor\u001b[39;00m coface \u001b[38;5;129;01min\u001b[39;00m cofaces:\n\u001b[0;32m    190\u001b[0m         new_weights[coface] \u001b[38;5;241m*\u001b[39m\u001b[38;5;241m=\u001b[39m np\u001b[38;5;241m.\u001b[39mexp(\u001b[38;5;241m-\u001b[39mdelta \u001b[38;5;241m*\u001b[39m avg_kappa \u001b[38;5;241m/\u001b[39m (\u001b[38;5;28mlen\u001b[39m(simplex)))\n",
      "File \u001b[1;32m~\\community-detection-simplicial-complexes-Ricci\\ricci\\ricci_flow.py:27\u001b[0m, in \u001b[0;36mget_cofaces\u001b[1;34m(sc, simplex)\u001b[0m\n\u001b[0;32m     25\u001b[0m \u001b[38;5;28;01mif\u001b[39;00m dim \u001b[38;5;241m+\u001b[39m \u001b[38;5;241m1\u001b[39m \u001b[38;5;129;01min\u001b[39;00m sc\u001b[38;5;241m.\u001b[39msimplices:\n\u001b[0;32m     26\u001b[0m     \u001b[38;5;28;01mfor\u001b[39;00m coface \u001b[38;5;129;01min\u001b[39;00m sc\u001b[38;5;241m.\u001b[39msimplices[dim \u001b[38;5;241m+\u001b[39m \u001b[38;5;241m1\u001b[39m]:\n\u001b[1;32m---> 27\u001b[0m         \u001b[38;5;28;01mif\u001b[39;00m \u001b[38;5;28mset\u001b[39m(simplex)\u001b[38;5;241m.\u001b[39missubset(coface):\n\u001b[0;32m     28\u001b[0m             cofaces\u001b[38;5;241m.\u001b[39mappend(coface)\n\u001b[0;32m     29\u001b[0m \u001b[38;5;28;01mreturn\u001b[39;00m cofaces\n",
      "\u001b[1;31mKeyboardInterrupt\u001b[0m: "
     ]
    }
   ],
   "source": [
    "sc = SimplicialComplex()\n",
    "\n",
    "for node in nodes:\n",
    "    sc.add_simplex((node,))\n",
    "\n",
    "for edge in edges:\n",
    "    sc.add_simplex(edge)\n",
    "\n",
    "G = nx.Graph()\n",
    "G.add_nodes_from(nodes)\n",
    "G.add_edges_from(edges)\n",
    "\n",
    "max_clique_size = 4  \n",
    "cliques = list(nx.find_cliques(G))\n",
    "\n",
    "for clique in cliques:\n",
    "    if len(clique) > 2 and len(clique) <= max_clique_size:\n",
    "        for k in range(2, len(clique)):\n",
    "            for simplex in itertools.combinations(clique, k+1):\n",
    "                sc.add_simplex(simplex)\n",
    "\n",
    "print(\"Dimensions and counts of simplices in the complex:\")\n",
    "for dim in sc.simplices:\n",
    "    count = len(sc.simplices[dim])\n",
    "    print(f\"Dimension {dim}: {count} simplices\")\n",
    "\n",
    "max_dim = max(sc.simplices.keys())\n",
    "nmi_scores, modularity_scores, theta_values, ari_scores = ricci_flow_community_detection(\n",
    "    sc, T=20, delta=0.01, ground_truth=node_labels\n",
    ")\n",
    "\n",
    "plt.figure(figsize=(10,5))\n",
    "plt.plot(theta_values, modularity_scores, label='Modularity')\n",
    "plt.plot(theta_values, nmi_scores, label='NMI')\n",
    "plt.plot(theta_values, ari_scores, label='ARI') \n",
    "plt.xlabel('Weight Cutoff (theta)')\n",
    "plt.ylabel('Metric Value')\n",
    "plt.title('aves-weaver-social')\n",
    "plt.legend()\n",
    "plt.grid(False)\n",
    "plt.show()\n",
    "\n",
    "if nmi_scores:\n",
    "    max_nmi_index = nmi_scores.index(max(nmi_scores))\n",
    "    optimal_theta = theta_values[max_nmi_index]\n",
    "    print(f\"Optimal theta (based on NMI): {optimal_theta}\")\n",
    "else:\n",
    "    print(\"Could not compute NMI scores.\")\n",
    "\n",
    "sc.simplices = {dim: sc.simplices[dim].copy() for dim in sc.simplices}\n",
    "sc.weights = sc.weights.copy()\n",
    "\n",
    "simplices_to_remove = [simplex for simplex, weight in sc.weights.items()\n",
    "                       if weight > optimal_theta and len(simplex) > 1]\n",
    "for simplex in simplices_to_remove:\n",
    "    dim = len(simplex) - 1\n",
    "    if simplex in sc.simplices[dim]:\n",
    "        sc.simplices[dim].remove(simplex)\n",
    "    del sc.weights[simplex]\n",
    "\n",
    "G = nx.Graph()\n",
    "G.add_nodes_from(sc.simplices[0])\n",
    "G.add_edges_from(sc.simplices[1])\n",
    "\n",
    "communities = list(nx.connected_components(G))\n",
    "print(f\"Number of communities detected: {len(communities)}\")"
   ]
  },
  {
   "cell_type": "code",
   "execution_count": null,
   "metadata": {},
   "outputs": [],
   "source": []
  }
 ],
 "metadata": {
  "kernelspec": {
   "display_name": "Python 3 (ipykernel)",
   "language": "python",
   "name": "python3"
  },
  "language_info": {
   "codemirror_mode": {
    "name": "ipython",
    "version": 3
   },
   "file_extension": ".py",
   "mimetype": "text/x-python",
   "name": "python",
   "nbconvert_exporter": "python",
   "pygments_lexer": "ipython3",
   "version": "3.11.4"
  }
 },
 "nbformat": 4,
 "nbformat_minor": 4
}
